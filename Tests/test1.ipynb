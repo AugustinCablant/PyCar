{
 "cells": [
  {
   "cell_type": "markdown",
   "metadata": {},
   "source": [
    "# Fichier de test du calcul de l'itinéraire optimal\n",
    "\n",
    "## Plan du notebook: \n",
    "0. Charger les packages utilisés y compris la classe CarNetwork dont on peut retrouver le code dans le fichier CarNetwork.py. \n",
    "\n",
    "1. Charger les données utilisées (issues du lien \"https://www.data.gouv.fr/fr/datasets/r/51606633-fb13-4820-b795-9a2a575a72f1\") et les nettoyer à l'aide des méthodes de la classe CarNetwork. \n",
    "\n",
    "2. Calcul de la distance entre les deux destinations en entrées de la classe CarNetwork. \n",
    "\n",
    "3. Tester la méthode .trajet_voiture() "
   ]
  },
  {
   "cell_type": "markdown",
   "metadata": {},
   "source": [
    "### 0. Chargement des packages"
   ]
  },
  {
   "cell_type": "code",
   "execution_count": 1,
   "metadata": {},
   "outputs": [],
   "source": [
    "import pandas as pd"
   ]
  },
  {
   "cell_type": "code",
   "execution_count": 2,
   "metadata": {},
   "outputs": [],
   "source": [
    "import pyroutelib3 \n",
    "import os\n",
    "import sys \n",
    "\n",
    "car_network_directory = '/Users/khelifanail/Documents/GitHub/Pycar/Modules'\n",
    "\n",
    "## si Augustin utilise le chemin absolu est '/Users/augustincablant/Documents/GitHub/Pycar/Modules' \n",
    "\n",
    "sys.path.append(car_network_directory)\n",
    "\n",
    "from CarNetwork import CarNetwork"
   ]
  },
  {
   "cell_type": "markdown",
   "metadata": {},
   "source": [
    "### 1. Chargement des données et nettoyage de celles-ci"
   ]
  },
  {
   "cell_type": "code",
   "execution_count": 3,
   "metadata": {},
   "outputs": [],
   "source": [
    "# On initialise un objet de la classe CarNetwork \n",
    "reseau = CarNetwork('1, rue Joliot Curie, 91190 Gif-sur-Yvette', '3, rue Dareau, 75014 Paris', 12)"
   ]
  },
  {
   "cell_type": "code",
   "execution_count": 4,
   "metadata": {},
   "outputs": [],
   "source": [
    "# On nettoie les données à l'aide de la méthode .clean_data()\n",
    "reseau.clean_data()"
   ]
  },
  {
   "cell_type": "code",
   "execution_count": 5,
   "metadata": {},
   "outputs": [
    {
     "data": {
      "text/html": [
       "<div>\n",
       "<style scoped>\n",
       "    .dataframe tbody tr th:only-of-type {\n",
       "        vertical-align: middle;\n",
       "    }\n",
       "\n",
       "    .dataframe tbody tr th {\n",
       "        vertical-align: top;\n",
       "    }\n",
       "\n",
       "    .dataframe thead th {\n",
       "        text-align: right;\n",
       "    }\n",
       "</style>\n",
       "<table border=\"1\" class=\"dataframe\">\n",
       "  <thead>\n",
       "    <tr style=\"text-align: right;\">\n",
       "      <th></th>\n",
       "      <th>n_amenageur</th>\n",
       "      <th>n_operateur</th>\n",
       "      <th>n_enseigne</th>\n",
       "      <th>id_station</th>\n",
       "      <th>n_station</th>\n",
       "      <th>ad_station</th>\n",
       "      <th>code_insee</th>\n",
       "      <th>xlongitude</th>\n",
       "      <th>ylatitude</th>\n",
       "      <th>nbre_pdc</th>\n",
       "      <th>...</th>\n",
       "      <th>type_prise</th>\n",
       "      <th>acces_recharge</th>\n",
       "      <th>accessibilite</th>\n",
       "      <th>observations</th>\n",
       "      <th>date_maj</th>\n",
       "      <th>source</th>\n",
       "      <th>geo_point_borne</th>\n",
       "      <th>code_insee_commune</th>\n",
       "      <th>region</th>\n",
       "      <th>departement</th>\n",
       "    </tr>\n",
       "  </thead>\n",
       "  <tbody>\n",
       "    <tr>\n",
       "      <th>0</th>\n",
       "      <td>ABVV Volvo Roissy</td>\n",
       "      <td>DRIVECO</td>\n",
       "      <td>ABVV Volvo Roissy</td>\n",
       "      <td>FR*SSD*PABVVVOLVO95700*1</td>\n",
       "      <td>ABVV Volvo Roissy</td>\n",
       "      <td>1 Avenue Charles de Gaulle 95700 Roissy-en-France</td>\n",
       "      <td>95527.0</td>\n",
       "      <td>2.511095</td>\n",
       "      <td>48.999531</td>\n",
       "      <td>6.0</td>\n",
       "      <td>...</td>\n",
       "      <td>T2</td>\n",
       "      <td>Gratuit</td>\n",
       "      <td>24/24 7/7 jours</td>\n",
       "      <td>NaN</td>\n",
       "      <td>2021-03-03</td>\n",
       "      <td>https://www.data.gouv.fr/fr/datasets/liste-des...</td>\n",
       "      <td>48.999531,2.511095</td>\n",
       "      <td>95527</td>\n",
       "      <td>Île-de-France</td>\n",
       "      <td>Val-d'Oise</td>\n",
       "    </tr>\n",
       "    <tr>\n",
       "      <th>1</th>\n",
       "      <td>ABVV Volvo St Ouen l'Aumône</td>\n",
       "      <td>DRIVECO</td>\n",
       "      <td>ABVV Volvo St Ouen l'Aumône</td>\n",
       "      <td>FR*SSD*PABVVVOLVO95310*1</td>\n",
       "      <td>ABVV Volvo St Ouen l'Aumône</td>\n",
       "      <td>135 Rue de Paris 95310 Saint-Ouen-l'Aumône</td>\n",
       "      <td>95572.0</td>\n",
       "      <td>2.122450</td>\n",
       "      <td>49.035994</td>\n",
       "      <td>12.0</td>\n",
       "      <td>...</td>\n",
       "      <td>T2</td>\n",
       "      <td>Gratuit</td>\n",
       "      <td>24/24 7/7 jours</td>\n",
       "      <td>NaN</td>\n",
       "      <td>2021-03-03</td>\n",
       "      <td>https://www.data.gouv.fr/fr/datasets/liste-des...</td>\n",
       "      <td>49.035994,2.12245</td>\n",
       "      <td>95572</td>\n",
       "      <td>Île-de-France</td>\n",
       "      <td>Val-d'Oise</td>\n",
       "    </tr>\n",
       "    <tr>\n",
       "      <th>2</th>\n",
       "      <td>ABVV Volvo St Ouen l'Aumône</td>\n",
       "      <td>DRIVECO</td>\n",
       "      <td>ABVV Volvo St Ouen l'Aumône</td>\n",
       "      <td>FR*SSD*PABVVVOLVO95310*1</td>\n",
       "      <td>ABVV Volvo St Ouen l'Aumône</td>\n",
       "      <td>135 Rue de Paris 95310 Saint-Ouen-l'Aumône</td>\n",
       "      <td>95572.0</td>\n",
       "      <td>2.122450</td>\n",
       "      <td>49.035994</td>\n",
       "      <td>12.0</td>\n",
       "      <td>...</td>\n",
       "      <td>EF, T2</td>\n",
       "      <td>Gratuit</td>\n",
       "      <td>24/24 7/7 jours</td>\n",
       "      <td>NaN</td>\n",
       "      <td>2021-03-03</td>\n",
       "      <td>https://www.data.gouv.fr/fr/datasets/liste-des...</td>\n",
       "      <td>49.035994,2.12245</td>\n",
       "      <td>95572</td>\n",
       "      <td>Île-de-France</td>\n",
       "      <td>Val-d'Oise</td>\n",
       "    </tr>\n",
       "  </tbody>\n",
       "</table>\n",
       "<p>3 rows × 22 columns</p>\n",
       "</div>"
      ],
      "text/plain": [
       "                   n_amenageur n_operateur                   n_enseigne  \\\n",
       "0            ABVV Volvo Roissy     DRIVECO            ABVV Volvo Roissy   \n",
       "1  ABVV Volvo St Ouen l'Aumône     DRIVECO  ABVV Volvo St Ouen l'Aumône   \n",
       "2  ABVV Volvo St Ouen l'Aumône     DRIVECO  ABVV Volvo St Ouen l'Aumône   \n",
       "\n",
       "                 id_station                    n_station  \\\n",
       "0  FR*SSD*PABVVVOLVO95700*1            ABVV Volvo Roissy   \n",
       "1  FR*SSD*PABVVVOLVO95310*1  ABVV Volvo St Ouen l'Aumône   \n",
       "2  FR*SSD*PABVVVOLVO95310*1  ABVV Volvo St Ouen l'Aumône   \n",
       "\n",
       "                                          ad_station  code_insee  xlongitude  \\\n",
       "0  1 Avenue Charles de Gaulle 95700 Roissy-en-France     95527.0    2.511095   \n",
       "1         135 Rue de Paris 95310 Saint-Ouen-l'Aumône     95572.0    2.122450   \n",
       "2         135 Rue de Paris 95310 Saint-Ouen-l'Aumône     95572.0    2.122450   \n",
       "\n",
       "   ylatitude  nbre_pdc  ... type_prise  acces_recharge    accessibilite  \\\n",
       "0  48.999531       6.0  ...         T2         Gratuit  24/24 7/7 jours   \n",
       "1  49.035994      12.0  ...         T2         Gratuit  24/24 7/7 jours   \n",
       "2  49.035994      12.0  ...     EF, T2         Gratuit  24/24 7/7 jours   \n",
       "\n",
       "  observations    date_maj                                             source  \\\n",
       "0          NaN  2021-03-03  https://www.data.gouv.fr/fr/datasets/liste-des...   \n",
       "1          NaN  2021-03-03  https://www.data.gouv.fr/fr/datasets/liste-des...   \n",
       "2          NaN  2021-03-03  https://www.data.gouv.fr/fr/datasets/liste-des...   \n",
       "\n",
       "      geo_point_borne code_insee_commune         region departement  \n",
       "0  48.999531,2.511095              95527  Île-de-France  Val-d'Oise  \n",
       "1   49.035994,2.12245              95572  Île-de-France  Val-d'Oise  \n",
       "2   49.035994,2.12245              95572  Île-de-France  Val-d'Oise  \n",
       "\n",
       "[3 rows x 22 columns]"
      ]
     },
     "execution_count": 5,
     "metadata": {},
     "output_type": "execute_result"
    }
   ],
   "source": [
    "# On affiche les données \n",
    "reseau.stations_data.head(3)"
   ]
  },
  {
   "cell_type": "markdown",
   "metadata": {},
   "source": [
    "### 2. Calcul de la distance entre les deux localisations entrées en argument de la classe CarNetwork\n",
    "\n",
    "Il est important de calculer cette distance. Cependant, il existe deux manières de calculer cette distance : \n",
    "- à vol d'oiseau \n",
    "- selon les routes existantes\n",
    "\n",
    "La distance en vol d'oiseau ne nous intéresse pas, on se déplace en voiture. \n",
    "\n",
    "En revanche, il est important de calculer cette distance selon les routes existances car une voiture dont l'autonomie (entrée en argu,ent de la classe CarNetwork) est supérieure à la distance entre les deux localisations suivant les routes existantes ne nécessite pas de trajet optimisé.\n",
    "\n"
   ]
  },
  {
   "cell_type": "code",
   "execution_count": 6,
   "metadata": {},
   "outputs": [],
   "source": [
    "reseau.get_coordo()"
   ]
  },
  {
   "cell_type": "code",
   "execution_count": 7,
   "metadata": {},
   "outputs": [
    {
     "ename": "KeyError",
     "evalue": "'findNode in an empty space'",
     "output_type": "error",
     "traceback": [
      "\u001b[0;31m---------------------------------------------------------------------------\u001b[0m",
      "\u001b[0;31mKeyError\u001b[0m                                  Traceback (most recent call last)",
      "\u001b[1;32m/Users/khelifanail/Documents/GitHub/Pycar/Tests/test1.ipynb Cell 11\u001b[0m line \u001b[0;36m1\n\u001b[0;32m----> <a href='vscode-notebook-cell:/Users/khelifanail/Documents/GitHub/Pycar/Tests/test1.ipynb#X13sZmlsZQ%3D%3D?line=0'>1</a>\u001b[0m reseau\u001b[39m.\u001b[39;49mtrajet_voiture()\n",
      "File \u001b[0;32m~/Documents/GitHub/Pycar/Modules/CarNetwork.py:98\u001b[0m, in \u001b[0;36mCarNetwork.trajet_voiture\u001b[0;34m(self)\u001b[0m\n\u001b[1;32m     95\u001b[0m \u001b[39mself\u001b[39m\u001b[39m.\u001b[39mx_B \u001b[39m=\u001b[39m \u001b[39mlist\u001b[39m(dep_json_B[\u001b[39m'\u001b[39m\u001b[39mfeatures\u001b[39m\u001b[39m'\u001b[39m][\u001b[39m0\u001b[39m]\u001b[39m.\u001b[39mget(\u001b[39m'\u001b[39m\u001b[39mgeometry\u001b[39m\u001b[39m'\u001b[39m)\u001b[39m.\u001b[39mget(\u001b[39m'\u001b[39m\u001b[39mcoordinates\u001b[39m\u001b[39m'\u001b[39m))\n\u001b[1;32m     97\u001b[0m router \u001b[39m=\u001b[39m pyroutelib3\u001b[39m.\u001b[39mRouter(\u001b[39m\"\u001b[39m\u001b[39mcar\u001b[39m\u001b[39m\"\u001b[39m)\n\u001b[0;32m---> 98\u001b[0m depart \u001b[39m=\u001b[39m router\u001b[39m.\u001b[39;49mfindNode(\u001b[39mself\u001b[39;49m\u001b[39m.\u001b[39;49mx_A[\u001b[39m0\u001b[39;49m], \u001b[39mself\u001b[39;49m\u001b[39m.\u001b[39;49mx_B[\u001b[39m1\u001b[39;49m])\n\u001b[1;32m     99\u001b[0m \u001b[39m#print(depart)\u001b[39;00m\n\u001b[1;32m    100\u001b[0m arrivee \u001b[39m=\u001b[39m router\u001b[39m.\u001b[39mfindNode(\u001b[39mself\u001b[39m\u001b[39m.\u001b[39mx_A[\u001b[39m0\u001b[39m], \u001b[39mself\u001b[39m\u001b[39m.\u001b[39mx_B[\u001b[39m1\u001b[39m])\n",
      "File \u001b[0;32m/usr/local/lib/python3.11/site-packages/pyroutelib3/datastore.py:344\u001b[0m, in \u001b[0;36mDatastore.findNode\u001b[0;34m(self, lat, lon)\u001b[0m\n\u001b[1;32m    341\u001b[0m bestDist \u001b[39m=\u001b[39m inf\n\u001b[1;32m    343\u001b[0m \u001b[39mif\u001b[39;00m \u001b[39mlen\u001b[39m(\u001b[39mself\u001b[39m\u001b[39m.\u001b[39mrnodes) \u001b[39m<\u001b[39m\u001b[39m=\u001b[39m \u001b[39m0\u001b[39m:\n\u001b[0;32m--> 344\u001b[0m     \u001b[39mraise\u001b[39;00m \u001b[39mKeyError\u001b[39;00m(\u001b[39m\"\u001b[39m\u001b[39mfindNode in an empty space\u001b[39m\u001b[39m\"\u001b[39m)\n\u001b[1;32m    346\u001b[0m \u001b[39mfor\u001b[39;00m nodeId, nodePos \u001b[39min\u001b[39;00m \u001b[39mself\u001b[39m\u001b[39m.\u001b[39mrnodes\u001b[39m.\u001b[39mitems():\n\u001b[1;32m    347\u001b[0m     nodeDist \u001b[39m=\u001b[39m \u001b[39mself\u001b[39m\u001b[39m.\u001b[39mdistance((lat, lon), nodePos)\n",
      "\u001b[0;31mKeyError\u001b[0m: 'findNode in an empty space'"
     ]
    }
   ],
   "source": [
    "reseau.trajet_voiture()"
   ]
  },
  {
   "cell_type": "code",
   "execution_count": null,
   "metadata": {},
   "outputs": [],
   "source": []
  }
 ],
 "metadata": {
  "kernelspec": {
   "display_name": "Python 3",
   "language": "python",
   "name": "python3"
  },
  "language_info": {
   "codemirror_mode": {
    "name": "ipython",
    "version": 3
   },
   "file_extension": ".py",
   "mimetype": "text/x-python",
   "name": "python",
   "nbconvert_exporter": "python",
   "pygments_lexer": "ipython3",
   "version": "3.11.5"
  },
  "orig_nbformat": 4
 },
 "nbformat": 4,
 "nbformat_minor": 2
}
