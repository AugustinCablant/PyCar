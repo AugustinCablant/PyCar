{
 "cells": [
  {
   "cell_type": "code",
   "execution_count": 1,
   "metadata": {},
   "outputs": [],
   "source": [
    "import pandas as pd\n",
    "import os\n",
    "import folium as fo"
   ]
  },
  {
   "cell_type": "code",
   "execution_count": 5,
   "metadata": {},
   "outputs": [],
   "source": [
    "cwd=os.getcwd()\n",
    "accidents_2022idf_path=os.path.join(cwd,\"accidents_2022_idf.xlsx\")\n",
    "\n",
    "accidents_2022idf_carac=pd.read_excel(accidents_2022idf_path)\n",
    "\n",
    "#reshape des data\n",
    "accidents_2022idf_carac[\"Latitude\"]=accidents_2022idf_carac[\"Latitude\"].str.replace(',','.').astype(float)\n",
    "accidents_2022idf_carac[\"Longitude\"]=accidents_2022idf_carac[\"Longitude\"].str.replace(',','.').astype(float)"
   ]
  },
  {
   "cell_type": "code",
   "execution_count": 9,
   "metadata": {},
   "outputs": [
    {
     "data": {
      "text/plain": [
       "Index(['Dépt', 'Commune', 'Date', 'Tué(s)', 'Blessés', 'dont hospitalisés',\n",
       "       'dont légers', 'Milieu', 'Autoroute', 'Adresse', 'Latitude',\n",
       "       'Longitude', 'Résumé'],\n",
       "      dtype='object')"
      ]
     },
     "execution_count": 9,
     "metadata": {},
     "output_type": "execute_result"
    }
   ],
   "source": [
    "accidents_2022idf_carac.columns"
   ]
  },
  {
   "cell_type": "code",
   "execution_count": 108,
   "metadata": {},
   "outputs": [],
   "source": [
    "#on trie les données d'accident en fonction de leur localisation\n",
    "dict_accidents_2022idf = accidents_2022idf_carac.groupby([\"Commune\",\"Adresse\"]).groups\n",
    "#on trie le dictionnaire obtenu\n",
    "dict_trie_accidents_2022idf=dict(sorted(dict_accidents_2022idf.items(),key=lambda item : len(item[1]),reverse=True))\n",
    "\n",
    "\n",
    "carte=fo.Map([48.866667,2.333333],zoom_start=12)\n",
    "#on affiche les 25 localisations avec le plus d'accidents en Idf\n",
    "i=0\n",
    "for key in dict_trie_accidents_2022idf.keys():\n",
    "    list1=[]\n",
    "    for elem in dict_trie_accidents_2022idf[key]:\n",
    "        list1.append(accidents_2022idf_carac.iloc[elem][\"Latitude\"])\n",
    "        m1,m2=list1.index(min(list1)),list1.index(max(list1))\n",
    "        #on affiche une ligne entre les points les plus éloignés\n",
    "    coord_ligne1=[accidents_2022idf_carac.iloc[dict_trie_accidents_2022idf[key][m1]]['Longitude'],accidents_2022idf_carac.iloc[dict_trie_accidents_2022idf[key][m1]]['Latitude']]\n",
    "    coord_ligne2=[accidents_2022idf_carac.iloc[dict_trie_accidents_2022idf[key][m2]]['Longitude'],accidents_2022idf_carac.iloc[dict_trie_accidents_2022idf[key][m2]]['Latitude']]\n",
    "    fo.PolyLine([coord_ligne1,coord_ligne2],popup=key,weight = 0.7 * len(dict_trie_accidents_2022idf[key]/len(dict_trie_accidents_2022idf[('93066 - Saint-Denis','AUTOROUTE A1')]))).add_to(carte)\n",
    "    i=i+1\n",
    "    if i > 25:\n",
    "        break\n",
    "    \n",
    "carte.save(\"accidents_idf_2022.html\")\n",
    "\n",
    "        "
   ]
  }
 ],
 "metadata": {
  "kernelspec": {
   "display_name": "Python 3",
   "language": "python",
   "name": "python3"
  },
  "language_info": {
   "codemirror_mode": {
    "name": "ipython",
    "version": 3
   },
   "file_extension": ".py",
   "mimetype": "text/x-python",
   "name": "python",
   "nbconvert_exporter": "python",
   "pygments_lexer": "ipython3",
   "version": "3.10.7"
  }
 },
 "nbformat": 4,
 "nbformat_minor": 2
}
