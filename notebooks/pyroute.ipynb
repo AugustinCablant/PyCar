{
 "cells": [
  {
   "cell_type": "code",
   "execution_count": null,
   "metadata": {},
   "outputs": [],
   "source": [
    "pip install pyroutelib3"
   ]
  },
  {
   "cell_type": "code",
<<<<<<< Updated upstream
   "execution_count": 5,
=======
   "execution_count": 20,
   "metadata": {},
   "outputs": [],
   "source": [
    "from geopy.distance import geodesic"
   ]
  },
  {
   "cell_type": "code",
   "execution_count": 21,
>>>>>>> Stashed changes
   "metadata": {},
   "outputs": [],
   "source": [
    "import pyroutelib3 \n",
    "import os\n",
    "import sys \n",
    "\n",
    "car_network_directory = '/Users/khelifanail/Documents/GitHub/Pycar/Modules'\n",
    "\n",
    "## si Augustin utilise le chemin absolu est '/Users/augustincablant/Documents/GitHub/Pycar/Modules' \n",
    "\n",
    "sys.path.append(car_network_directory)\n",
    "\n",
    "from CarNetwork import CarNetwork"
   ]
  },
  {
   "cell_type": "markdown",
   "metadata": {},
   "source": [
    "## Instanciation de la classe et méthode .get_cordo()\n",
    "\n",
    "**Remarque** : À quoi correspond le dernier argument \"autonomie\" ? D'où vient-il et à quoi sert-il ?"
   ]
  },
  {
   "cell_type": "code",
<<<<<<< Updated upstream
   "execution_count": 7,
=======
   "execution_count": 22,
>>>>>>> Stashed changes
   "metadata": {},
   "outputs": [],
   "source": [
    "adresse_depart = input(\"D'où partez-vous ? (numéro, rue, code postal ville)\")\n",
    "adresse_arrivee = input(\"Où voulez-vous aller ? (numéro, rue, code postal ville)\")"
   ]
  },
  {
   "cell_type": "code",
<<<<<<< Updated upstream
   "execution_count": null,
   "metadata": {},
   "outputs": [],
=======
   "execution_count": 27,
   "metadata": {},
   "outputs": [
    {
     "data": {
      "text/plain": [
       "[2.162981, 48.709796]"
      ]
     },
     "execution_count": 27,
     "metadata": {},
     "output_type": "execute_result"
    }
   ],
   "source": [
    "point_depart = reseau.x_A \n",
    "point_depart"
   ]
  },
  {
   "cell_type": "code",
   "execution_count": null,
   "metadata": {},
   "outputs": [],
   "source": [
    "from geopy.distance import geodesic\n",
    "\n",
    "# Point de départ\n",
    "point_depart = reseau.x_A \n",
    "\n",
    "# Liste de coordonnées\n",
    "coord_stations = reseau.stations_data[['xlongitude', 'ylatitude']]\n",
    "\n",
    "# Initialisation de la distance minimale et de la position la plus proche\n",
    "min_distance = 0.\n",
    "nearest_position = None\n",
    "\n",
    "for coord in coord_stations:\n",
    "    # Calcul de la distance entre le point de départ et chaque coordonnée\n",
    "    distance = geodesic(point_depart, (coord[0], coord[1])).kilometers\n",
    "    \n",
    "    # Vérification de la distance minimale\n",
    "    if distance < min_distance:\n",
    "        min_distance = distance\n",
    "        nearest_position = coord\n",
    "\n",
    "print(\"La position la plus proche est :\", nearest_position)\n",
    "print(\"La distance minimale est :\", min_distance, \"kilomètres\")\n"
   ]
  },
  {
   "cell_type": "markdown",
   "metadata": {},
   "source": [
    "## Méthode .trajet_voiture()\n",
    "\n",
    "Nous avons vu qu'avec .get_coordo(), nous fixions les attributs .x_A et .x_B de l'objet de la classe CarNetwork. Ceci est requis pour pouvoir utiliser la méthode .trajet_voiture() qui renvoie quant à elle une liste de coordonnées correspondant au trajet reliant les deux destinations saisies. \n",
    "\n",
    "**Remarque** : il faudrait peut-être ajouter à cette méthode une option vérifiant que la méthode .get_coordo() a bien été appelée sur l'objet instancié sans quoi la méthode .trajet_voiture() est inutile."
   ]
  },
  {
   "cell_type": "code",
   "execution_count": 6,
   "metadata": {},
   "outputs": [
    {
     "name": "stdout",
     "output_type": "stream",
     "text": [
      "Votre trajet existe\n"
     ]
    }
   ],
   "source": [
    "trajet = reseau.trajet_voiture()"
   ]
  },
  {
   "cell_type": "code",
   "execution_count": 12,
   "metadata": {},
   "outputs": [
    {
     "data": {
      "text/plain": [
       "<CarNetwork.CarNetwork at 0x15fcab3d0>"
      ]
     },
     "execution_count": 12,
     "metadata": {},
     "output_type": "execute_result"
    }
   ],
>>>>>>> Stashed changes
   "source": []
  },
  {
   "cell_type": "code",
   "execution_count": 6,
   "metadata": {},
   "outputs": [
    {
     "ename": "NameError",
     "evalue": "name 'coord_dep' is not defined",
     "output_type": "error",
     "traceback": [
      "\u001b[0;31m---------------------------------------------------------------------------\u001b[0m",
      "\u001b[0;31mNameError\u001b[0m                                 Traceback (most recent call last)",
      "\u001b[1;32m/Users/khelifanail/Documents/GitHub/Pycar/notebooks/pyroute.ipynb Cell 3\u001b[0m line \u001b[0;36m1\n\u001b[0;32m----> <a href='vscode-notebook-cell:/Users/khelifanail/Documents/GitHub/Pycar/notebooks/pyroute.ipynb#W2sZmlsZQ%3D%3D?line=0'>1</a>\u001b[0m coor_depart \u001b[39m=\u001b[39m [coord_dep[\u001b[39m1\u001b[39m], coord_dep[\u001b[39m0\u001b[39m]] \n\u001b[1;32m      <a href='vscode-notebook-cell:/Users/khelifanail/Documents/GitHub/Pycar/notebooks/pyroute.ipynb#W2sZmlsZQ%3D%3D?line=1'>2</a>\u001b[0m coor_arrivee \u001b[39m=\u001b[39m [coord_arr[\u001b[39m1\u001b[39m], coord_arr[\u001b[39m0\u001b[39m]] \n",
      "\u001b[0;31mNameError\u001b[0m: name 'coord_dep' is not defined"
     ]
    }
   ],
   "source": [
    "coor_depart = [coord_dep[1], coord_dep[0]] \n",
    "coor_arrivee = [coord_arr[1], coord_arr[0]] "
   ]
  },
  {
   "cell_type": "code",
   "execution_count": null,
   "metadata": {},
   "outputs": [],
   "source": []
  }
 ],
 "metadata": {
  "kernelspec": {
   "display_name": "Python 3",
   "language": "python",
   "name": "python3"
  },
  "language_info": {
   "codemirror_mode": {
    "name": "ipython",
    "version": 3
   },
   "file_extension": ".py",
   "mimetype": "text/x-python",
   "name": "python",
   "nbconvert_exporter": "python",
   "pygments_lexer": "ipython3",
   "version": "3.11.5"
  },
  "orig_nbformat": 4
 },
 "nbformat": 4,
 "nbformat_minor": 2
}
