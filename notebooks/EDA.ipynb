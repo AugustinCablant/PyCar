{
 "cells": [
  {
   "cell_type": "markdown",
   "metadata": {},
   "source": [
    "# EDA : Exploratory Data Analysis "
   ]
  },
  {
   "cell_type": "code",
   "execution_count": 1,
   "metadata": {},
   "outputs": [],
   "source": [
    "# Nous avons besoins d'importer quelques modules \n",
    "import pandas as pd \n",
    "import numpy as np \n",
    "import geopandas as gpd \n",
    "import matplotlib.pyplot as plt \n",
    "import folium\n",
    "import seaborn as sns\n",
    "import requests \n",
    "import re\n",
    "import os\n",
    "from datetime import datetime\n",
    "import plotly.express as px\n",
    "import time"
   ]
  },
  {
   "cell_type": "markdown",
   "metadata": {},
   "source": [
    "## Visualisons les bornes de recharge pour les véhicules électriques en France\n",
    "\n",
    "Le jeu de données que nous allons utiliser date du 23 juillet 2023, vous pouvez le retrouver sur cette [page](https://www.data.gouv.fr/fr/datasets/bornes-de-recharge-pour-vehicules-electriques-3/)."
   ]
  },
  {
   "cell_type": "code",
   "execution_count": 2,
   "metadata": {},
   "outputs": [],
   "source": [
    "# On commence par récupérer notre data set \n",
    "URL = 'https://www.data.gouv.fr/fr/datasets/r/517258d5-aee7-4fa4-ac02-bd83ede23d25'\n",
    "df = pd.read_csv(URL, sep = ';')"
   ]
  },
  {
   "cell_type": "code",
   "execution_count": 3,
   "metadata": {},
   "outputs": [
    {
     "data": {
      "text/html": [
       "<div>\n",
       "<style scoped>\n",
       "    .dataframe tbody tr th:only-of-type {\n",
       "        vertical-align: middle;\n",
       "    }\n",
       "\n",
       "    .dataframe tbody tr th {\n",
       "        vertical-align: top;\n",
       "    }\n",
       "\n",
       "    .dataframe thead th {\n",
       "        text-align: right;\n",
       "    }\n",
       "</style>\n",
       "<table border=\"1\" class=\"dataframe\">\n",
       "  <thead>\n",
       "    <tr style=\"text-align: right;\">\n",
       "      <th></th>\n",
       "      <th>n_amenageur</th>\n",
       "      <th>n_operateur</th>\n",
       "      <th>n_enseigne</th>\n",
       "      <th>id_station</th>\n",
       "      <th>n_station</th>\n",
       "      <th>ad_station</th>\n",
       "      <th>code_insee</th>\n",
       "      <th>xlongitude</th>\n",
       "      <th>ylatitude</th>\n",
       "      <th>nbre_pdc</th>\n",
       "      <th>...</th>\n",
       "      <th>type_prise</th>\n",
       "      <th>acces_recharge</th>\n",
       "      <th>accessibilite</th>\n",
       "      <th>observations</th>\n",
       "      <th>date_maj</th>\n",
       "      <th>source</th>\n",
       "      <th>geo_point_borne</th>\n",
       "      <th>code_insee_commune</th>\n",
       "      <th>region</th>\n",
       "      <th>departement</th>\n",
       "    </tr>\n",
       "  </thead>\n",
       "  <tbody>\n",
       "    <tr>\n",
       "      <th>2616</th>\n",
       "      <td>SYANE</td>\n",
       "      <td>SYANE</td>\n",
       "      <td>E Born</td>\n",
       "      <td>FR*S74*P74121*A</td>\n",
       "      <td>EXCENEVEX_Avenue de la Plage</td>\n",
       "      <td>Avenue de la Plage 74140 EXCENEVEX</td>\n",
       "      <td>74121.0</td>\n",
       "      <td>6.358175</td>\n",
       "      <td>46.346000</td>\n",
       "      <td>NaN</td>\n",
       "      <td>...</td>\n",
       "      <td>E/F + T2</td>\n",
       "      <td>Payant</td>\n",
       "      <td>24/24 7/7 jours</td>\n",
       "      <td>NaN</td>\n",
       "      <td>2020-03-24</td>\n",
       "      <td>https://www.data.gouv.fr/fr/datasets/syane-bor...</td>\n",
       "      <td>46.3459998,6.3581754</td>\n",
       "      <td>74121</td>\n",
       "      <td>Auvergne-Rhône-Alpes</td>\n",
       "      <td>Haute-Savoie</td>\n",
       "    </tr>\n",
       "    <tr>\n",
       "      <th>10506</th>\n",
       "      <td>Ville d'Hazebrouck</td>\n",
       "      <td>BOUYGUES ENERGIES ET SERVICES</td>\n",
       "      <td>pass pass électrique</td>\n",
       "      <td>FR*H08*P59295*001</td>\n",
       "      <td>HAZEBROUCK - Rue de la plaine</td>\n",
       "      <td>Rue de la plaine 59190 HAZEBROUCK</td>\n",
       "      <td>59295.0</td>\n",
       "      <td>2.552611</td>\n",
       "      <td>50.730270</td>\n",
       "      <td>2.0</td>\n",
       "      <td>...</td>\n",
       "      <td>EF - T2</td>\n",
       "      <td>payant</td>\n",
       "      <td>24h/24 7j/7</td>\n",
       "      <td>Recharge par badge et avec une application sma...</td>\n",
       "      <td>2020-04-03</td>\n",
       "      <td>https://www.data.gouv.fr/fr/datasets/infrastru...</td>\n",
       "      <td>50.73027,2.552611</td>\n",
       "      <td>59295</td>\n",
       "      <td>Hauts-de-France</td>\n",
       "      <td>Nord</td>\n",
       "    </tr>\n",
       "    <tr>\n",
       "      <th>4420</th>\n",
       "      <td>Mairie de Paris</td>\n",
       "      <td>Mairie de Paris</td>\n",
       "      <td>Paris Recharge</td>\n",
       "      <td>FR*W75*PVP*0089</td>\n",
       "      <td>110 BOULEVARD RICHARD LENOIR</td>\n",
       "      <td>110 BOULEVARD RICHARD LENOIR, 75011 PARIS</td>\n",
       "      <td>75111.0</td>\n",
       "      <td>2.371399</td>\n",
       "      <td>48.864062</td>\n",
       "      <td>6.0</td>\n",
       "      <td>...</td>\n",
       "      <td>prise T3</td>\n",
       "      <td>payant</td>\n",
       "      <td>7/7-24/24</td>\n",
       "      <td>Courant: AC mono|tarif: 120€/an|https://www.pa...</td>\n",
       "      <td>2020-07-22</td>\n",
       "      <td>https://www.data.gouv.fr/fr/datasets/paris-rec...</td>\n",
       "      <td>48.8640621,2.3713985</td>\n",
       "      <td>75056</td>\n",
       "      <td>Île-de-France</td>\n",
       "      <td>Paris</td>\n",
       "    </tr>\n",
       "    <tr>\n",
       "      <th>9756</th>\n",
       "      <td>TOTAL MARKETING FRANCE</td>\n",
       "      <td>TOTAL MARKETING FRANCE</td>\n",
       "      <td>Belib'</td>\n",
       "      <td>FR*V75*PPX11*08</td>\n",
       "      <td>Paris | Boulevard Richard Lenoir 36</td>\n",
       "      <td>36 Boulevard Richard Lenoir, 75011 Paris</td>\n",
       "      <td>75111.0</td>\n",
       "      <td>2.371390</td>\n",
       "      <td>48.857258</td>\n",
       "      <td>4.0</td>\n",
       "      <td>...</td>\n",
       "      <td>T2-EF</td>\n",
       "      <td>payant</td>\n",
       "      <td>7/7-24/24</td>\n",
       "      <td>https://belib.paris</td>\n",
       "      <td>2021-06-02</td>\n",
       "      <td>https://www.data.gouv.fr/fr/datasets/belib-poi...</td>\n",
       "      <td>48.857258,2.37139</td>\n",
       "      <td>75056</td>\n",
       "      <td>Île-de-France</td>\n",
       "      <td>Paris</td>\n",
       "    </tr>\n",
       "    <tr>\n",
       "      <th>1702</th>\n",
       "      <td>SDE76</td>\n",
       "      <td>Sodetrel</td>\n",
       "      <td>SDE76</td>\n",
       "      <td>FR*SOD*P*SDE7*79*_*_*_</td>\n",
       "      <td>Trouville-Alliquerville</td>\n",
       "      <td>Route de l'Eglise</td>\n",
       "      <td>76715.0</td>\n",
       "      <td>0.527887</td>\n",
       "      <td>49.584935</td>\n",
       "      <td>2.0</td>\n",
       "      <td>...</td>\n",
       "      <td>E/F-T2</td>\n",
       "      <td>payant</td>\n",
       "      <td>24/24 7/7</td>\n",
       "      <td>RFID et application</td>\n",
       "      <td>2018-04-11</td>\n",
       "      <td>https://www.data.gouv.fr/fr/datasets/bornes-de...</td>\n",
       "      <td>49.584935,0.527887</td>\n",
       "      <td>76382</td>\n",
       "      <td>Normandie</td>\n",
       "      <td>Seine-Maritime</td>\n",
       "    </tr>\n",
       "  </tbody>\n",
       "</table>\n",
       "<p>5 rows × 22 columns</p>\n",
       "</div>"
      ],
      "text/plain": [
       "                  n_amenageur                    n_operateur  \\\n",
       "2616                    SYANE                          SYANE   \n",
       "10506      Ville d'Hazebrouck  BOUYGUES ENERGIES ET SERVICES   \n",
       "4420          Mairie de Paris                Mairie de Paris   \n",
       "9756   TOTAL MARKETING FRANCE         TOTAL MARKETING FRANCE   \n",
       "1702                    SDE76                       Sodetrel   \n",
       "\n",
       "                 n_enseigne              id_station  \\\n",
       "2616                 E Born         FR*S74*P74121*A   \n",
       "10506  pass pass électrique       FR*H08*P59295*001   \n",
       "4420         Paris Recharge         FR*W75*PVP*0089   \n",
       "9756                 Belib'         FR*V75*PPX11*08   \n",
       "1702                  SDE76  FR*SOD*P*SDE7*79*_*_*_   \n",
       "\n",
       "                                 n_station  \\\n",
       "2616          EXCENEVEX_Avenue de la Plage   \n",
       "10506        HAZEBROUCK - Rue de la plaine   \n",
       "4420          110 BOULEVARD RICHARD LENOIR   \n",
       "9756   Paris | Boulevard Richard Lenoir 36   \n",
       "1702               Trouville-Alliquerville   \n",
       "\n",
       "                                      ad_station  code_insee  xlongitude  \\\n",
       "2616          Avenue de la Plage 74140 EXCENEVEX     74121.0    6.358175   \n",
       "10506          Rue de la plaine 59190 HAZEBROUCK     59295.0    2.552611   \n",
       "4420   110 BOULEVARD RICHARD LENOIR, 75011 PARIS     75111.0    2.371399   \n",
       "9756    36 Boulevard Richard Lenoir, 75011 Paris     75111.0    2.371390   \n",
       "1702                           Route de l'Eglise     76715.0    0.527887   \n",
       "\n",
       "       ylatitude  nbre_pdc  ... type_prise  acces_recharge    accessibilite  \\\n",
       "2616   46.346000       NaN  ...   E/F + T2          Payant  24/24 7/7 jours   \n",
       "10506  50.730270       2.0  ...    EF - T2          payant      24h/24 7j/7   \n",
       "4420   48.864062       6.0  ...   prise T3          payant        7/7-24/24   \n",
       "9756   48.857258       4.0  ...      T2-EF          payant        7/7-24/24   \n",
       "1702   49.584935       2.0  ...     E/F-T2          payant        24/24 7/7   \n",
       "\n",
       "                                            observations    date_maj  \\\n",
       "2616                                                 NaN  2020-03-24   \n",
       "10506  Recharge par badge et avec une application sma...  2020-04-03   \n",
       "4420   Courant: AC mono|tarif: 120€/an|https://www.pa...  2020-07-22   \n",
       "9756                                 https://belib.paris  2021-06-02   \n",
       "1702                                 RFID et application  2018-04-11   \n",
       "\n",
       "                                                  source  \\\n",
       "2616   https://www.data.gouv.fr/fr/datasets/syane-bor...   \n",
       "10506  https://www.data.gouv.fr/fr/datasets/infrastru...   \n",
       "4420   https://www.data.gouv.fr/fr/datasets/paris-rec...   \n",
       "9756   https://www.data.gouv.fr/fr/datasets/belib-poi...   \n",
       "1702   https://www.data.gouv.fr/fr/datasets/bornes-de...   \n",
       "\n",
       "            geo_point_borne code_insee_commune                region  \\\n",
       "2616   46.3459998,6.3581754              74121  Auvergne-Rhône-Alpes   \n",
       "10506     50.73027,2.552611              59295       Hauts-de-France   \n",
       "4420   48.8640621,2.3713985              75056         Île-de-France   \n",
       "9756      48.857258,2.37139              75056         Île-de-France   \n",
       "1702     49.584935,0.527887              76382             Normandie   \n",
       "\n",
       "          departement  \n",
       "2616     Haute-Savoie  \n",
       "10506            Nord  \n",
       "4420            Paris  \n",
       "9756            Paris  \n",
       "1702   Seine-Maritime  \n",
       "\n",
       "[5 rows x 22 columns]"
      ]
     },
     "execution_count": 3,
     "metadata": {},
     "output_type": "execute_result"
    }
   ],
   "source": [
    "df.sample(5)"
   ]
  },
  {
   "cell_type": "markdown",
   "metadata": {},
   "source": [
    "### Catégories d'accès à la borne : \n",
    "\n",
    "Comme l'illustre la cellule de code suivante, les catégories proposées ne sont pas très propres. Remédions à cela."
   ]
  },
  {
   "cell_type": "code",
   "execution_count": 4,
   "metadata": {},
   "outputs": [
    {
     "data": {
      "text/plain": [
       "[nan,\n",
       " 'Gratuit',\n",
       " 'Payant',\n",
       " 'payant',\n",
       " 'gratuit',\n",
       " 'oui',\n",
       " '5€ / 45min, si abonné (10€/mois) : 1€/10min',\n",
       " 'Réservation préalable, accès par badge',\n",
       " '0.19€/kWh + 0.01€/min',\n",
       " 'Public payant',\n",
       " 'QR code / appli mobile / Carte RFID',\n",
       " 'gratuit pour la clientèle du parking',\n",
       " 'badge RFID; QR Code',\n",
       " 'Charges gratuites de 12 à 14h et de 19h à 21h',\n",
       " 'Payant (badge, appli et QR code)',\n",
       " 'GRATUIT',\n",
       " '2€/recharge',\n",
       " 'Carte Mobive',\n",
       " 'Accès payant (Badge RFID, application, site web paynow.sodetrel.fr, badges vendus en boutique)',\n",
       " '2€/recharge+ prix du stationnement']"
      ]
     },
     "execution_count": 4,
     "metadata": {},
     "output_type": "execute_result"
    }
   ],
   "source": [
    "list(df['acces_recharge'].unique())"
   ]
  },
  {
   "cell_type": "code",
   "execution_count": 5,
   "metadata": {},
   "outputs": [
    {
     "data": {
      "text/plain": [
       "['information manquante',\n",
       " 'gratuit',\n",
       " 'payant',\n",
       " 'carte ou badge',\n",
       " 'charges gratuites de 12 à 14h et de 19h à 21h']"
      ]
     },
     "execution_count": 5,
     "metadata": {},
     "output_type": "execute_result"
    }
   ],
   "source": [
    "def transform_acces(row):\n",
    "    if not pd.isna(row):  # On ne peut rien dire des nan\n",
    "        row = row.lower()  # Mettre en lettre minuscule \n",
    "        mots = row.split(' ')\n",
    "        if 'payant' in mots: row = 'payant'\n",
    "        elif 'gratuit' in mots: row = 'gratuit'\n",
    "        for mot in mots: \n",
    "            if len(mot.split('€'))>1: row = 'payant'\n",
    "            if mot=='carte' or mot=='badge': row = 'carte ou badge'\n",
    "            if mot=='oui': row = 'information manquante'\n",
    "        #else: row = 'accès spécial'\n",
    "    else: row = 'information manquante'\n",
    "    return row\n",
    "df['acces_recharge'] = df['acces_recharge'].apply(transform_acces)\n",
    "list(df['acces_recharge'].unique())"
   ]
  },
  {
   "cell_type": "markdown",
   "metadata": {},
   "source": [
    "### On veut ensuite s'assurer que nous disposons de toutes les informations concernant les coordonénes géographiques des bornes de recharge ... "
   ]
  },
  {
   "cell_type": "code",
   "execution_count": 6,
   "metadata": {},
   "outputs": [
    {
     "name": "stdout",
     "output_type": "stream",
     "text": [
      "Il y a  30 valeurs manquantes pour xlongitude\n",
      "Il y a  6 valeurs manquantes pour ylatitude\n"
     ]
    },
    {
     "data": {
      "text/plain": [
       "<Axes: >"
      ]
     },
     "execution_count": 6,
     "metadata": {},
     "output_type": "execute_result"
    },
    {
     "data": {
      "image/png": "[encoded data removed]",
      "text/plain": [
       "<Figure size 640x480 with 1 Axes>"
      ]
     },
     "metadata": {},
     "output_type": "display_data"
    }
   ],
   "source": [
    "print('Il y a ', df[df['xlongitude'].isna()].shape[0], 'valeurs manquantes pour xlongitude')\n",
    "print('Il y a ', df[df['ylatitude'].isna()].shape[0], 'valeurs manquantes pour ylatitude')\n",
    "sns.heatmap(df[['xlongitude', 'ylatitude']].isna(), cmap = 'magma', cbar = False)"
   ]
  },
  {
   "cell_type": "code",
   "execution_count": 7,
   "metadata": {},
   "outputs": [],
   "source": [
    "droping_liste = list(set(df[df['xlongitude'].isna()].index.to_list() + df[df['ylatitude'].isna()].index.to_list()))\n",
    "df.drop(droping_liste, inplace = True)"
   ]
  },
  {
   "cell_type": "markdown",
   "metadata": {},
   "source": [
    "### Regardons plus attentivement la répartition des bornes en France"
   ]
  },
  {
   "cell_type": "code",
   "execution_count": null,
   "metadata": {},
   "outputs": [],
   "source": []
  },
  {
   "cell_type": "code",
   "execution_count": null,
   "metadata": {},
   "outputs": [],
   "source": []
  },
  {
   "cell_type": "code",
   "execution_count": null,
   "metadata": {},
   "outputs": [],
   "source": []
  },
  {
   "cell_type": "code",
   "execution_count": null,
   "metadata": {},
   "outputs": [],
   "source": []
  },
  {
   "cell_type": "code",
   "execution_count": null,
   "metadata": {},
   "outputs": [],
   "source": []
  },
  {
   "cell_type": "code",
   "execution_count": null,
   "metadata": {},
   "outputs": [],
   "source": []
  },
  {
   "cell_type": "code",
   "execution_count": null,
   "metadata": {},
   "outputs": [],
   "source": []
  },
  {
   "cell_type": "code",
   "execution_count": null,
   "metadata": {},
   "outputs": [],
   "source": []
  },
  {
   "cell_type": "code",
   "execution_count": null,
   "metadata": {},
   "outputs": [],
   "source": []
  }
 ],
 "metadata": {
  "kernelspec": {
   "display_name": "base",
   "language": "python",
   "name": "python3"
  },
  "language_info": {
   "codemirror_mode": {
    "name": "ipython",
    "version": 3
   },
   "file_extension": ".py",
   "mimetype": "text/x-python",
   "name": "python",
   "nbconvert_exporter": "python",
   "pygments_lexer": "ipython3",
   "version": "3.9.12"
  }
 },
 "nbformat": 4,
 "nbformat_minor": 2
}
