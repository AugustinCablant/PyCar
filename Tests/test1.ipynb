{
 "cells": [
  {
   "cell_type": "markdown",
   "metadata": {},
   "source": [
    "# Fichier de test du calcul de l'itinéraire optimal\n",
    "\n",
    "## Plan du notebook: \n",
    "0. Charger les packages utilisés y compris la classe CarNetwork dont on peut retrouver le code dans le fichier CarNetwork.py. \n",
    "\n",
    "1. Charger les données utilisées (issues du lien \"https://www.data.gouv.fr/fr/datasets/r/51606633-fb13-4820-b795-9a2a575a72f1\") et les nettoyer à l'aide des méthodes de la classe CarNetwork. \n",
    "\n",
    "2. Tester la méthode .trajet_voiture() "
   ]
  },
  {
   "cell_type": "markdown",
   "metadata": {},
   "source": [
    "### 0. Chargement des packages"
   ]
  },
  {
   "cell_type": "code",
   "execution_count": 1,
   "metadata": {},
   "outputs": [],
   "source": [
    "import pandas as pd"
   ]
  },
  {
   "cell_type": "code",
   "execution_count": 2,
   "metadata": {},
   "outputs": [],
   "source": [
    "import pyroutelib3 \n",
    "import os\n",
    "import sys \n",
    "\n",
    "car_network_directory = '/Users/khelifanail/Documents/GitHub/Pycar/Modules'\n",
    "\n",
    "## si Augustin utilise le chemin absolu est '/Users/augustincablant/Documents/GitHub/Pycar/Modules' \n",
    "\n",
    "sys.path.append(car_network_directory)\n",
    "\n",
    "from CarNetwork import CarNetwork"
   ]
  },
  {
   "cell_type": "markdown",
   "metadata": {},
   "source": [
    "### 1. Chargement des données et nettoyage de celles-ci"
   ]
  },
  {
   "cell_type": "code",
   "execution_count": 3,
   "metadata": {},
   "outputs": [],
   "source": [
    "# On initialise un objet de la classe CarNetwork \n",
    "reseau = CarNetwork('1, rue Joliot Curie, 91190 Gif-sur-Yvette', '3, rue Dareau, 75014 Paris', 12)"
   ]
  },
  {
   "cell_type": "code",
   "execution_count": 4,
   "metadata": {},
   "outputs": [
    {
     "data": {
      "text/html": [
       "<div>\n",
       "<style scoped>\n",
       "    .dataframe tbody tr th:only-of-type {\n",
       "        vertical-align: middle;\n",
       "    }\n",
       "\n",
       "    .dataframe tbody tr th {\n",
       "        vertical-align: top;\n",
       "    }\n",
       "\n",
       "    .dataframe thead th {\n",
       "        text-align: right;\n",
       "    }\n",
       "</style>\n",
       "<table border=\"1\" class=\"dataframe\">\n",
       "  <thead>\n",
       "    <tr style=\"text-align: right;\">\n",
       "      <th></th>\n",
       "      <th>n_amenageur;n_operateur;n_enseigne;id_station;n_station;ad_station;code_insee;xlongitude;ylatitude;nbre_pdc;id_pdc;puiss_max;type_prise;acces_recharge;accessibilite;observations;date_maj;source;geo_point_borne;code_insee_commune;region;departement</th>\n",
       "    </tr>\n",
       "  </thead>\n",
       "  <tbody>\n",
       "    <tr>\n",
       "      <th>ABVV Volvo Roissy;DRIVECO;ABVV Volvo Roissy;FR*SSD*PABVVVOLVO95700*1;ABVV Volvo Roissy;1 Avenue Charles de Gaulle 95700 Roissy-en-France;95527;2.511095;48.999531;6;FR*SSD*E20347935*P1;22.08;T2;Gratuit;24/24 7/7 jours;;2021-03-03;https://www.data.gouv.fr/fr/datasets/liste-des-bornes-de-recharge-ouvertes-au-public/#resource-5f59d7ca-1b75-4974-bde5-fd9a3b42177d;48.999531</th>\n",
       "      <td>2.511095;95527;Île-de-France;Val-d'Oise</td>\n",
       "    </tr>\n",
       "    <tr>\n",
       "      <th>ABVV Volvo St Ouen l'Aumône;DRIVECO;ABVV Volvo St Ouen l'Aumône;FR*SSD*PABVVVOLVO95310*1;ABVV Volvo St Ouen l'Aumône;135 Rue de Paris 95310 Saint-Ouen-l'Aumône;95572;2.12245;49.035994;12;FR*SSD*E21053737*P1;7.36;T2;Gratuit;24/24 7/7 jours;;2021-03-03;https://www.data.gouv.fr/fr/datasets/liste-des-bornes-de-recharge-ouvertes-au-public/#resource-5f59d7ca-1b75-4974-bde5-fd9a3b42177d;49.035994</th>\n",
       "      <td>2.12245;95572;Île-de-France;Val-d'Oise</td>\n",
       "    </tr>\n",
       "    <tr>\n",
       "      <th>Airria;Zephyre;Airria;FR*ZP1*EAC*57882;Airria 2 - 11 kW AC;7a chemin de la Dhuy 38240 Meylan;38229;45.213163;5.7963701;4;FR*ZP1*EAC*43253;11.0;T2;Payant;24/24 7/7 jours;;2021-04-12;https://www.data.gouv.fr/fr/datasets/airria-1/#resource-a7171c9f-eb3b-4b96-9709-993522810144;5.7963701</th>\n",
       "      <td>45.213163;;;</td>\n",
       "    </tr>\n",
       "    <tr>\n",
       "      <th>Aix-Marseille-Provence;BOUYGUES ENERGIES ET SERVICES;MAMP;FR*M13*P13022*001;CASSIS - Parking Savon;Parking Savon 13260 CASSIS;13022;5.53811;43.213528;6;FR*M13*E13022*001*1;4.0;EF;payant;24h/24 7j/7;Recharge par badge et avec une application smartphone;2021-09-04;https://www.data.gouv.fr/fr/datasets/infrastructures-de-recharge-pour-vehicules-electriques-metropole-aix-marseille-provence/#resource-df922622-a1c3-4e27-abe0-2590e38ff545;43.213528</th>\n",
       "      <td>5.53811;13022;Provence-Alpes-Côte d'Azur;Bouch...</td>\n",
       "    </tr>\n",
       "    <tr>\n",
       "      <th>Aix-Marseille-Provence;BOUYGUES ENERGIES ET SERVICES;MAMP;FR*M13*P13209*005;MARSEILLE-9E - 16 Rue Emile Zola;16 Rue Emile Zola 0 MARSEILLE-9E;13209;5.399622;43.24787;2;FR*M13*E13209*005*2;22.0;T2-EF;payant;24h/24 7j/7;Recharge par badge et avec une application smartphone;2021-09-04;https://www.data.gouv.fr/fr/datasets/infrastructures-de-recharge-pour-vehicules-electriques-metropole-aix-marseille-provence/#resource-df922622-a1c3-4e27-abe0-2590e38ff545;43.24787</th>\n",
       "      <td>5.399622;13055;Provence-Alpes-Côte d'Azur;Bouc...</td>\n",
       "    </tr>\n",
       "    <tr>\n",
       "      <th>...</th>\n",
       "      <td>...</td>\n",
       "    </tr>\n",
       "    <tr>\n",
       "      <th>Volvo Lievin;DRIVECO;Volvo Lievin;FR*G46*PLEMPEREURVOLVO62800*1;Volvo Lievin;Avenue François Mitterrand 62800 Liévin;62510;2.787673;50.426751;7;FR*G46*E10435*P2;22.08;T2;Gratuit;24/24 7/7 jours;;2021-03-03;https://www.data.gouv.fr/fr/datasets/liste-des-bornes-de-recharge-ouvertes-au-public/#resource-5f59d7ca-1b75-4974-bde5-fd9a3b42177d;50.426751</th>\n",
       "      <td>2.787673;62510;Hauts-de-France;Pas-de-Calais</td>\n",
       "    </tr>\n",
       "    <tr>\n",
       "      <th>Volvo St Etienne;DRIVECO;Volvo St Etienne;FR*SSD*PVULCAINVOLVO42000*1;Volvo St Etienne;34 Boulevard Jules Janin 42000 Saint-Étienne;42218;4.390843;45.448346;8;FR*SSD*E20426930*P1;22.08;T2;Gratuit;24/24 7/7 jours;;2021-03-03;https://www.data.gouv.fr/fr/datasets/liste-des-bornes-de-recharge-ouvertes-au-public/#resource-5f59d7ca-1b75-4974-bde5-fd9a3b42177d;45.448346</th>\n",
       "      <td>4.390843;42218;Auvergne-Rhône-Alpes;Loire</td>\n",
       "    </tr>\n",
       "    <tr>\n",
       "      <th>Volvo Valence;DRIVECO;Volvo Valence;FR*G46*PGRIMVOLVO26000*1;Volvo Valence;505 avenue de Chabeuil 26000 Valence;26362;4.935011;44.921741;16;FR*G46*E10681*P2;22.08;T2;Gratuit;24/24 7/7 jours;;2021-03-03;https://www.data.gouv.fr/fr/datasets/liste-des-bornes-de-recharge-ouvertes-au-public/#resource-5f59d7ca-1b75-4974-bde5-fd9a3b42177d;44.921741</th>\n",
       "      <td>4.935011;26362;Auvergne-Rhône-Alpes;Drôme</td>\n",
       "    </tr>\n",
       "    <tr>\n",
       "      <th>Volvo Valence;DRIVECO;Volvo Valence;FR*G46*PGRIMVOLVO26000*1;Volvo Valence;505 avenue de Chabeuil 26000 Valence;26362;4.935011;44.921741;16;FR*G46*E10676*P2;22.08;T2;Gratuit;24/24 7/7 jours;;2021-03-03;https://www.data.gouv.fr/fr/datasets/liste-des-bornes-de-recharge-ouvertes-au-public/#resource-5f59d7ca-1b75-4974-bde5-fd9a3b42177d;44.921741</th>\n",
       "      <td>4.935011;26362;Auvergne-Rhône-Alpes;Drôme</td>\n",
       "    </tr>\n",
       "    <tr>\n",
       "      <th>Volvo Villeneuve d'Ascq;DRIVECO;Volvo Villeneuve d'Ascq;FR*G46*PDUGARDINVOLVO59650*1;Volvo Villeneuve d'Ascq;Boulevard de l'Ouest 59650 Villeneuve-d'Ascq;59350;3.120367;50.631908;4;FR*G46*E10468*P2;22.08;T2;Gratuit;24/24 7/7 jours;;2021-03-03;https://www.data.gouv.fr/fr/datasets/liste-des-bornes-de-recharge-ouvertes-au-public/#resource-5f59d7ca-1b75-4974-bde5-fd9a3b42177d;50.631908</th>\n",
       "      <td>3.120367;59350;Hauts-de-France;Nord</td>\n",
       "    </tr>\n",
       "  </tbody>\n",
       "</table>\n",
       "<p>10132 rows × 1 columns</p>\n",
       "</div>"
      ],
      "text/plain": [
       "                                                   n_amenageur;n_operateur;n_enseigne;id_station;n_station;ad_station;code_insee;xlongitude;ylatitude;nbre_pdc;id_pdc;puiss_max;type_prise;acces_recharge;accessibilite;observations;date_maj;source;geo_point_borne;code_insee_commune;region;departement\n",
       "ABVV Volvo Roissy;DRIVECO;ABVV Volvo Roissy;FR*...            2.511095;95527;Île-de-France;Val-d'Oise                                                                                                                                                                                                     \n",
       "ABVV Volvo St Ouen l'Aumône;DRIVECO;ABVV Volvo ...             2.12245;95572;Île-de-France;Val-d'Oise                                                                                                                                                                                                     \n",
       "Airria;Zephyre;Airria;FR*ZP1*EAC*57882;Airria 2...                                       45.213163;;;                                                                                                                                                                                                     \n",
       "Aix-Marseille-Provence;BOUYGUES ENERGIES ET SER...  5.53811;13022;Provence-Alpes-Côte d'Azur;Bouch...                                                                                                                                                                                                     \n",
       "Aix-Marseille-Provence;BOUYGUES ENERGIES ET SER...  5.399622;13055;Provence-Alpes-Côte d'Azur;Bouc...                                                                                                                                                                                                     \n",
       "...                                                                                               ...                                                                                                                                                                                                     \n",
       "Volvo Lievin;DRIVECO;Volvo Lievin;FR*G46*PLEMPE...       2.787673;62510;Hauts-de-France;Pas-de-Calais                                                                                                                                                                                                     \n",
       "Volvo St Etienne;DRIVECO;Volvo St Etienne;FR*SS...          4.390843;42218;Auvergne-Rhône-Alpes;Loire                                                                                                                                                                                                     \n",
       "Volvo Valence;DRIVECO;Volvo Valence;FR*G46*PGRI...          4.935011;26362;Auvergne-Rhône-Alpes;Drôme                                                                                                                                                                                                     \n",
       "Volvo Valence;DRIVECO;Volvo Valence;FR*G46*PGRI...          4.935011;26362;Auvergne-Rhône-Alpes;Drôme                                                                                                                                                                                                     \n",
       "Volvo Villeneuve d'Ascq;DRIVECO;Volvo Villeneuv...                3.120367;59350;Hauts-de-France;Nord                                                                                                                                                                                                     \n",
       "\n",
       "[10132 rows x 1 columns]"
      ]
     },
     "execution_count": 4,
     "metadata": {},
     "output_type": "execute_result"
    }
   ],
   "source": [
    "reseau.stations_data"
   ]
  },
  {
   "cell_type": "code",
   "execution_count": null,
   "metadata": {},
   "outputs": [],
   "source": []
  }
 ],
 "metadata": {
  "kernelspec": {
   "display_name": "Python 3",
   "language": "python",
   "name": "python3"
  },
  "language_info": {
   "codemirror_mode": {
    "name": "ipython",
    "version": 3
   },
   "file_extension": ".py",
   "mimetype": "text/x-python",
   "name": "python",
   "nbconvert_exporter": "python",
   "pygments_lexer": "ipython3",
   "version": "3.11.5"
  },
  "orig_nbformat": 4
 },
 "nbformat": 4,
 "nbformat_minor": 2
}
