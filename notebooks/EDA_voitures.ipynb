{
 "cells": [
  {
   "cell_type": "code",
   "execution_count": 16,
   "metadata": {},
   "outputs": [],
   "source": [
    "import pandas as pd \n",
    "import os"
   ]
  },
  {
   "cell_type": "markdown",
   "metadata": {},
   "source": [
    "# Premiers pas avec le fichier\n",
    "\n",
    "Le fichier est trop volumineux pour pouvoir le stocker sur le github. C'est pourquoi nous opérons quelques modifications."
   ]
  },
  {
   "cell_type": "code",
   "execution_count": 26,
   "metadata": {},
   "outputs": [
    {
     "name": "stderr",
     "output_type": "stream",
     "text": [
      "/var/folders/bt/r1dg46ys21lb57m4n4x11m6c0000gn/T/ipykernel_2106/1225068217.py:1: DtypeWarning: Columns (2,3,8,12,28,35) have mixed types. Specify dtype option on import or set low_memory=False.\n",
      "  df = pd.read_csv('/Users/augustincablant/Desktop/data.csv')\n"
     ]
    },
    {
     "data": {
      "text/html": [
       "<div>\n",
       "<style scoped>\n",
       "    .dataframe tbody tr th:only-of-type {\n",
       "        vertical-align: middle;\n",
       "    }\n",
       "\n",
       "    .dataframe tbody tr th {\n",
       "        vertical-align: top;\n",
       "    }\n",
       "\n",
       "    .dataframe thead th {\n",
       "        text-align: right;\n",
       "    }\n",
       "</style>\n",
       "<table border=\"1\" class=\"dataframe\">\n",
       "  <thead>\n",
       "    <tr style=\"text-align: right;\">\n",
       "      <th></th>\n",
       "      <th>ID</th>\n",
       "      <th>Country</th>\n",
       "      <th>VFN</th>\n",
       "      <th>Mp</th>\n",
       "      <th>Mh</th>\n",
       "      <th>Man</th>\n",
       "      <th>MMS</th>\n",
       "      <th>Tan</th>\n",
       "      <th>T</th>\n",
       "      <th>Va</th>\n",
       "      <th>...</th>\n",
       "      <th>IT</th>\n",
       "      <th>Ernedc (g/km)</th>\n",
       "      <th>Erwltp (g/km)</th>\n",
       "      <th>De</th>\n",
       "      <th>Vf</th>\n",
       "      <th>Status</th>\n",
       "      <th>year</th>\n",
       "      <th>Date of registration</th>\n",
       "      <th>Fuel consumption</th>\n",
       "      <th>Electric range (km)</th>\n",
       "    </tr>\n",
       "  </thead>\n",
       "  <tbody>\n",
       "    <tr>\n",
       "      <th>0</th>\n",
       "      <td>77799293</td>\n",
       "      <td>FR</td>\n",
       "      <td>IP-13-JN1-2017-0018</td>\n",
       "      <td>RENAULT-NISSAN-MITSUBISHI</td>\n",
       "      <td>NISSAN AUTOMOTIVE EUROPE</td>\n",
       "      <td>NISSAN AUTOMOTIVE EUROPE SAS</td>\n",
       "      <td>NaN</td>\n",
       "      <td>e5*2007/46*1028*00</td>\n",
       "      <td>ME0M</td>\n",
       "      <td>B</td>\n",
       "      <td>...</td>\n",
       "      <td>NaN</td>\n",
       "      <td>NaN</td>\n",
       "      <td>NaN</td>\n",
       "      <td>NaN</td>\n",
       "      <td>NaN</td>\n",
       "      <td>P</td>\n",
       "      <td>2022</td>\n",
       "      <td>2022-01-24</td>\n",
       "      <td>NaN</td>\n",
       "      <td>200.0</td>\n",
       "    </tr>\n",
       "    <tr>\n",
       "      <th>1</th>\n",
       "      <td>77799294</td>\n",
       "      <td>FR</td>\n",
       "      <td>IP-13-JN1-2017-0018</td>\n",
       "      <td>RENAULT-NISSAN-MITSUBISHI</td>\n",
       "      <td>NISSAN AUTOMOTIVE EUROPE</td>\n",
       "      <td>NISSAN AUTOMOTIVE EUROPE SAS</td>\n",
       "      <td>NaN</td>\n",
       "      <td>e5*2007/46*1028*00</td>\n",
       "      <td>ME0M</td>\n",
       "      <td>B</td>\n",
       "      <td>...</td>\n",
       "      <td>NaN</td>\n",
       "      <td>NaN</td>\n",
       "      <td>NaN</td>\n",
       "      <td>NaN</td>\n",
       "      <td>NaN</td>\n",
       "      <td>P</td>\n",
       "      <td>2022</td>\n",
       "      <td>2022-03-31</td>\n",
       "      <td>NaN</td>\n",
       "      <td>200.0</td>\n",
       "    </tr>\n",
       "    <tr>\n",
       "      <th>2</th>\n",
       "      <td>77799295</td>\n",
       "      <td>FR</td>\n",
       "      <td>IP-13-JN1-2017-0018</td>\n",
       "      <td>RENAULT-NISSAN-MITSUBISHI</td>\n",
       "      <td>NISSAN AUTOMOTIVE EUROPE</td>\n",
       "      <td>NISSAN AUTOMOTIVE EUROPE SAS</td>\n",
       "      <td>NaN</td>\n",
       "      <td>e5*2007/46*1028*03</td>\n",
       "      <td>ME0M</td>\n",
       "      <td>B</td>\n",
       "      <td>...</td>\n",
       "      <td>NaN</td>\n",
       "      <td>NaN</td>\n",
       "      <td>NaN</td>\n",
       "      <td>NaN</td>\n",
       "      <td>NaN</td>\n",
       "      <td>P</td>\n",
       "      <td>2022</td>\n",
       "      <td>2022-05-23</td>\n",
       "      <td>NaN</td>\n",
       "      <td>200.0</td>\n",
       "    </tr>\n",
       "    <tr>\n",
       "      <th>3</th>\n",
       "      <td>77499852</td>\n",
       "      <td>FR</td>\n",
       "      <td>IP-ZXK____REDU7760-VF7-0</td>\n",
       "      <td>STELLANTIS</td>\n",
       "      <td>AUTOMOBILES CITROEN</td>\n",
       "      <td>AUTOMOBILES CITROEN</td>\n",
       "      <td>NaN</td>\n",
       "      <td>e2*2007/46*0530*14</td>\n",
       "      <td>V</td>\n",
       "      <td>Z</td>\n",
       "      <td>...</td>\n",
       "      <td>NaN</td>\n",
       "      <td>NaN</td>\n",
       "      <td>NaN</td>\n",
       "      <td>NaN</td>\n",
       "      <td>NaN</td>\n",
       "      <td>P</td>\n",
       "      <td>2022</td>\n",
       "      <td>2022-05-11</td>\n",
       "      <td>NaN</td>\n",
       "      <td>211.0</td>\n",
       "    </tr>\n",
       "    <tr>\n",
       "      <th>4</th>\n",
       "      <td>77499853</td>\n",
       "      <td>FR</td>\n",
       "      <td>IP-ZXK____REDU7760-VF7-0</td>\n",
       "      <td>STELLANTIS</td>\n",
       "      <td>AUTOMOBILES CITROEN</td>\n",
       "      <td>AUTOMOBILES CITROEN</td>\n",
       "      <td>NaN</td>\n",
       "      <td>e2*2007/46*0530*14</td>\n",
       "      <td>V</td>\n",
       "      <td>Z</td>\n",
       "      <td>...</td>\n",
       "      <td>NaN</td>\n",
       "      <td>NaN</td>\n",
       "      <td>NaN</td>\n",
       "      <td>NaN</td>\n",
       "      <td>NaN</td>\n",
       "      <td>P</td>\n",
       "      <td>2022</td>\n",
       "      <td>2022-05-12</td>\n",
       "      <td>NaN</td>\n",
       "      <td>210.0</td>\n",
       "    </tr>\n",
       "  </tbody>\n",
       "</table>\n",
       "<p>5 rows × 38 columns</p>\n",
       "</div>"
      ],
      "text/plain": [
       "         ID Country                       VFN                         Mp  \\\n",
       "0  77799293      FR       IP-13-JN1-2017-0018  RENAULT-NISSAN-MITSUBISHI   \n",
       "1  77799294      FR       IP-13-JN1-2017-0018  RENAULT-NISSAN-MITSUBISHI   \n",
       "2  77799295      FR       IP-13-JN1-2017-0018  RENAULT-NISSAN-MITSUBISHI   \n",
       "3  77499852      FR  IP-ZXK____REDU7760-VF7-0                 STELLANTIS   \n",
       "4  77499853      FR  IP-ZXK____REDU7760-VF7-0                 STELLANTIS   \n",
       "\n",
       "                         Mh                           Man  MMS  \\\n",
       "0  NISSAN AUTOMOTIVE EUROPE  NISSAN AUTOMOTIVE EUROPE SAS  NaN   \n",
       "1  NISSAN AUTOMOTIVE EUROPE  NISSAN AUTOMOTIVE EUROPE SAS  NaN   \n",
       "2  NISSAN AUTOMOTIVE EUROPE  NISSAN AUTOMOTIVE EUROPE SAS  NaN   \n",
       "3       AUTOMOBILES CITROEN           AUTOMOBILES CITROEN  NaN   \n",
       "4       AUTOMOBILES CITROEN           AUTOMOBILES CITROEN  NaN   \n",
       "\n",
       "                  Tan     T Va  ...   IT Ernedc (g/km) Erwltp (g/km)  De  Vf  \\\n",
       "0  e5*2007/46*1028*00  ME0M  B  ...  NaN           NaN           NaN NaN NaN   \n",
       "1  e5*2007/46*1028*00  ME0M  B  ...  NaN           NaN           NaN NaN NaN   \n",
       "2  e5*2007/46*1028*03  ME0M  B  ...  NaN           NaN           NaN NaN NaN   \n",
       "3  e2*2007/46*0530*14     V  Z  ...  NaN           NaN           NaN NaN NaN   \n",
       "4  e2*2007/46*0530*14     V  Z  ...  NaN           NaN           NaN NaN NaN   \n",
       "\n",
       "   Status  year  Date of registration  Fuel consumption   Electric range (km)  \n",
       "0       P  2022            2022-01-24                NaN                200.0  \n",
       "1       P  2022            2022-03-31                NaN                200.0  \n",
       "2       P  2022            2022-05-23                NaN                200.0  \n",
       "3       P  2022            2022-05-11                NaN                211.0  \n",
       "4       P  2022            2022-05-12                NaN                210.0  \n",
       "\n",
       "[5 rows x 38 columns]"
      ]
     },
     "execution_count": 26,
     "metadata": {},
     "output_type": "execute_result"
    }
   ],
   "source": [
    "df = pd.read_csv('/Users/augustincablant/Desktop/data.csv')\n",
    "df.head()"
   ]
  },
  {
   "cell_type": "code",
   "execution_count": 3,
   "metadata": {},
   "outputs": [
    {
     "data": {
      "text/plain": [
       "(1322601, 38)"
      ]
     },
     "execution_count": 3,
     "metadata": {},
     "output_type": "execute_result"
    }
   ],
   "source": [
    "df.shape"
   ]
  },
  {
   "cell_type": "code",
   "execution_count": 4,
   "metadata": {},
   "outputs": [
    {
     "data": {
      "text/plain": [
       "Index(['ID', 'Country', 'VFN', 'Mp', 'Mh', 'Man', 'MMS', 'Tan', 'T', 'Va',\n",
       "       'Ve', 'Mk', 'Cn', 'Ct', 'Cr', 'r', 'm (kg)', 'Mt', 'Enedc (g/km)',\n",
       "       'Ewltp (g/km)', 'W (mm)', 'At1 (mm)', 'At2 (mm)', 'Ft', 'Fm',\n",
       "       'ec (cm3)', 'ep (KW)', 'z (Wh/km)', 'IT', 'Ernedc (g/km)',\n",
       "       'Erwltp (g/km)', 'De', 'Vf', 'Status', 'year', 'Date of registration',\n",
       "       'Fuel consumption ', 'Electric range (km)'],\n",
       "      dtype='object')"
      ]
     },
     "execution_count": 4,
     "metadata": {},
     "output_type": "execute_result"
    }
   ],
   "source": [
    "df.columns"
   ]
  },
  {
   "cell_type": "code",
   "execution_count": 27,
   "metadata": {},
   "outputs": [
    {
     "data": {
      "text/plain": [
       "(214432, 38)"
      ]
     },
     "execution_count": 27,
     "metadata": {},
     "output_type": "execute_result"
    }
   ],
   "source": [
    "# On conserve que la France \n",
    "\n",
    "df_fr = df[df['Country']=='FR']\n",
    "df_fr.shape"
   ]
  },
  {
   "cell_type": "code",
   "execution_count": 28,
   "metadata": {},
   "outputs": [
    {
     "data": {
      "text/plain": [
       "(214432, 9)"
      ]
     },
     "execution_count": 28,
     "metadata": {},
     "output_type": "execute_result"
    }
   ],
   "source": [
    "# On opère à une sélection des colonnes \n",
    "colonnes_utiles = ['Mp','m (kg)', 'Ft', 'ep (KW)', 'z (Wh/km)','Status', 'year', 'Fuel consumption ', 'Electric range (km)']\n",
    "df_fr = df_fr[colonnes_utiles]\n",
    "df_fr.shape"
   ]
  },
  {
   "cell_type": "code",
   "execution_count": 29,
   "metadata": {},
   "outputs": [],
   "source": [
    "df_fr.to_csv('/Users/augustincablant/Documents/GitHub/Pycar/DOWNLOAD/voitures_fr.csv')"
   ]
  },
  {
   "cell_type": "markdown",
   "metadata": {},
   "source": [
    "Fin de la procédure."
   ]
  },
  {
   "cell_type": "markdown",
   "metadata": {},
   "source": [
    "# Passons à l'analyse du fichier "
   ]
  },
  {
   "cell_type": "code",
   "execution_count": 30,
   "metadata": {},
   "outputs": [],
   "source": [
    "os.chdir(\"/Users/augustincablant/Documents/GitHub/Pycar\")\n",
    "df = pd.read_csv('DOWNLOAD/voitures_fr.csv')\n",
    "df.drop('Unnamed: 0', axis=1, inplace = True)"
   ]
  },
  {
   "cell_type": "code",
   "execution_count": 31,
   "metadata": {},
   "outputs": [
    {
     "data": {
      "text/html": [
       "<div>\n",
       "<style scoped>\n",
       "    .dataframe tbody tr th:only-of-type {\n",
       "        vertical-align: middle;\n",
       "    }\n",
       "\n",
       "    .dataframe tbody tr th {\n",
       "        vertical-align: top;\n",
       "    }\n",
       "\n",
       "    .dataframe thead th {\n",
       "        text-align: right;\n",
       "    }\n",
       "</style>\n",
       "<table border=\"1\" class=\"dataframe\">\n",
       "  <thead>\n",
       "    <tr style=\"text-align: right;\">\n",
       "      <th></th>\n",
       "      <th>Mp</th>\n",
       "      <th>m (kg)</th>\n",
       "      <th>Ft</th>\n",
       "      <th>ep (KW)</th>\n",
       "      <th>z (Wh/km)</th>\n",
       "      <th>Status</th>\n",
       "      <th>year</th>\n",
       "      <th>Fuel consumption</th>\n",
       "      <th>Electric range (km)</th>\n",
       "    </tr>\n",
       "  </thead>\n",
       "  <tbody>\n",
       "    <tr>\n",
       "      <th>79377</th>\n",
       "      <td>VOLKSWAGEN</td>\n",
       "      <td>2109.0</td>\n",
       "      <td>ELECTRIC</td>\n",
       "      <td>70.0</td>\n",
       "      <td>171.0</td>\n",
       "      <td>P</td>\n",
       "      <td>2022</td>\n",
       "      <td>NaN</td>\n",
       "      <td>519.0</td>\n",
       "    </tr>\n",
       "    <tr>\n",
       "      <th>193336</th>\n",
       "      <td>RENAULT-NISSAN-MITSUBISHI</td>\n",
       "      <td>1577.0</td>\n",
       "      <td>ELECTRIC</td>\n",
       "      <td>51.0</td>\n",
       "      <td>195.0</td>\n",
       "      <td>P</td>\n",
       "      <td>2022</td>\n",
       "      <td>NaN</td>\n",
       "      <td>351.0</td>\n",
       "    </tr>\n",
       "    <tr>\n",
       "      <th>178673</th>\n",
       "      <td>RENAULT-NISSAN-MITSUBISHI</td>\n",
       "      <td>1700.0</td>\n",
       "      <td>ELECTRIC</td>\n",
       "      <td>55.0</td>\n",
       "      <td>154.0</td>\n",
       "      <td>P</td>\n",
       "      <td>2022</td>\n",
       "      <td>NaN</td>\n",
       "      <td>463.0</td>\n",
       "    </tr>\n",
       "    <tr>\n",
       "      <th>23617</th>\n",
       "      <td>STELLANTIS</td>\n",
       "      <td>1530.0</td>\n",
       "      <td>ELECTRIC</td>\n",
       "      <td>100.0</td>\n",
       "      <td>154.0</td>\n",
       "      <td>P</td>\n",
       "      <td>2022</td>\n",
       "      <td>NaN</td>\n",
       "      <td>362.0</td>\n",
       "    </tr>\n",
       "    <tr>\n",
       "      <th>190892</th>\n",
       "      <td>RENAULT-NISSAN-MITSUBISHI</td>\n",
       "      <td>1577.0</td>\n",
       "      <td>ELECTRIC</td>\n",
       "      <td>51.0</td>\n",
       "      <td>192.0</td>\n",
       "      <td>P</td>\n",
       "      <td>2022</td>\n",
       "      <td>NaN</td>\n",
       "      <td>358.0</td>\n",
       "    </tr>\n",
       "    <tr>\n",
       "      <th>191045</th>\n",
       "      <td>RENAULT-NISSAN-MITSUBISHI</td>\n",
       "      <td>1577.0</td>\n",
       "      <td>ELECTRIC</td>\n",
       "      <td>51.0</td>\n",
       "      <td>173.0</td>\n",
       "      <td>P</td>\n",
       "      <td>2022</td>\n",
       "      <td>NaN</td>\n",
       "      <td>395.0</td>\n",
       "    </tr>\n",
       "    <tr>\n",
       "      <th>50541</th>\n",
       "      <td>MERCEDES-BENZ</td>\n",
       "      <td>1095.0</td>\n",
       "      <td>ELECTRIC</td>\n",
       "      <td>41.0</td>\n",
       "      <td>174.0</td>\n",
       "      <td>P</td>\n",
       "      <td>2022</td>\n",
       "      <td>NaN</td>\n",
       "      <td>122.0</td>\n",
       "    </tr>\n",
       "    <tr>\n",
       "      <th>62429</th>\n",
       "      <td>STELLANTIS</td>\n",
       "      <td>1365.0</td>\n",
       "      <td>ELECTRIC</td>\n",
       "      <td>43.0</td>\n",
       "      <td>143.0</td>\n",
       "      <td>P</td>\n",
       "      <td>2022</td>\n",
       "      <td>NaN</td>\n",
       "      <td>312.0</td>\n",
       "    </tr>\n",
       "    <tr>\n",
       "      <th>174217</th>\n",
       "      <td>RENAULT-NISSAN-MITSUBISHI</td>\n",
       "      <td>1711.0</td>\n",
       "      <td>ELECTRIC</td>\n",
       "      <td>55.0</td>\n",
       "      <td>162.0</td>\n",
       "      <td>P</td>\n",
       "      <td>2022</td>\n",
       "      <td>NaN</td>\n",
       "      <td>433.0</td>\n",
       "    </tr>\n",
       "    <tr>\n",
       "      <th>69964</th>\n",
       "      <td>STELLANTIS</td>\n",
       "      <td>1281.0</td>\n",
       "      <td>ELECTRIC</td>\n",
       "      <td>43.0</td>\n",
       "      <td>130.0</td>\n",
       "      <td>P</td>\n",
       "      <td>2022</td>\n",
       "      <td>NaN</td>\n",
       "      <td>190.0</td>\n",
       "    </tr>\n",
       "  </tbody>\n",
       "</table>\n",
       "</div>"
      ],
      "text/plain": [
       "                               Mp  m (kg)        Ft  ep (KW)  z (Wh/km)  \\\n",
       "79377                  VOLKSWAGEN  2109.0  ELECTRIC     70.0      171.0   \n",
       "193336  RENAULT-NISSAN-MITSUBISHI  1577.0  ELECTRIC     51.0      195.0   \n",
       "178673  RENAULT-NISSAN-MITSUBISHI  1700.0  ELECTRIC     55.0      154.0   \n",
       "23617                  STELLANTIS  1530.0  ELECTRIC    100.0      154.0   \n",
       "190892  RENAULT-NISSAN-MITSUBISHI  1577.0  ELECTRIC     51.0      192.0   \n",
       "191045  RENAULT-NISSAN-MITSUBISHI  1577.0  ELECTRIC     51.0      173.0   \n",
       "50541               MERCEDES-BENZ  1095.0  ELECTRIC     41.0      174.0   \n",
       "62429                  STELLANTIS  1365.0  ELECTRIC     43.0      143.0   \n",
       "174217  RENAULT-NISSAN-MITSUBISHI  1711.0  ELECTRIC     55.0      162.0   \n",
       "69964                  STELLANTIS  1281.0  ELECTRIC     43.0      130.0   \n",
       "\n",
       "       Status  year  Fuel consumption   Electric range (km)  \n",
       "79377       P  2022                NaN                519.0  \n",
       "193336      P  2022                NaN                351.0  \n",
       "178673      P  2022                NaN                463.0  \n",
       "23617       P  2022                NaN                362.0  \n",
       "190892      P  2022                NaN                358.0  \n",
       "191045      P  2022                NaN                395.0  \n",
       "50541       P  2022                NaN                122.0  \n",
       "62429       P  2022                NaN                312.0  \n",
       "174217      P  2022                NaN                433.0  \n",
       "69964       P  2022                NaN                190.0  "
      ]
     },
     "execution_count": 31,
     "metadata": {},
     "output_type": "execute_result"
    }
   ],
   "source": [
    "df.sample(10)"
   ]
  },
  {
   "cell_type": "code",
   "execution_count": null,
   "metadata": {},
   "outputs": [],
   "source": []
  }
 ],
 "metadata": {
  "kernelspec": {
   "display_name": "base",
   "language": "python",
   "name": "python3"
  },
  "language_info": {
   "codemirror_mode": {
    "name": "ipython",
    "version": 3
   },
   "file_extension": ".py",
   "mimetype": "text/x-python",
   "name": "python",
   "nbconvert_exporter": "python",
   "pygments_lexer": "ipython3",
   "version": "3.9.12"
  }
 },
 "nbformat": 4,
 "nbformat_minor": 2
}
