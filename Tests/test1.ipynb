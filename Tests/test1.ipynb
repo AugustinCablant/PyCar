{
 "cells": [
  {
   "cell_type": "markdown",
   "metadata": {},
   "source": [
    "# Fichier de test du calcul de l'itinéraire optimal\n",
    "\n",
    "## Plan du notebook: \n",
    "0. Charger les packages utilisés y compris la classe CarNetwork dont on peut retrouver le code dans le fichier CarNetwork.py. \n",
    "\n",
    "1. Charger les données utilisées (issues du lien \"https://www.data.gouv.fr/fr/datasets/r/51606633-fb13-4820-b795-9a2a575a72f1\") et les nettoyer à l'aide des méthodes de la classe CarNetwork. \n",
    "\n",
    "2. Tester la méthode .trajet_voiture() "
   ]
  },
  {
   "cell_type": "markdown",
   "metadata": {},
   "source": [
    "### 0. Chargement des packages"
   ]
  },
  {
   "cell_type": "code",
   "execution_count": 25,
   "metadata": {},
   "outputs": [],
   "source": [
    "import pandas as pd"
   ]
  },
  {
   "cell_type": "code",
   "execution_count": 26,
   "metadata": {},
   "outputs": [],
   "source": [
    "import pyroutelib3 \n",
    "import os\n",
    "import sys \n",
    "\n",
    "car_network_directory = '/Users/khelifanail/Documents/GitHub/Pycar/Modules'\n",
    "\n",
    "## si Augustin utilise le chemin absolu est '/Users/augustincablant/Documents/GitHub/Pycar/Modules' \n",
    "\n",
    "sys.path.append(car_network_directory)\n",
    "\n",
    "from CarNetwork import CarNetwork"
   ]
  },
  {
   "cell_type": "markdown",
   "metadata": {},
   "source": [
    "### 1. Chargement des données et nettoyage de celles-ci"
   ]
  },
  {
   "cell_type": "code",
   "execution_count": 27,
   "metadata": {},
   "outputs": [],
   "source": [
    "url = 'https://www.data.gouv.fr/fr/datasets/r/51606633-fb13-4820-b795-9a2a575a72f1'"
   ]
  },
  {
   "cell_type": "code",
   "execution_count": 28,
   "metadata": {},
   "outputs": [
    {
     "ename": "TypeError",
     "evalue": "CarNetwork.__init__() takes 4 positional arguments but 5 were given",
     "output_type": "error",
     "traceback": [
      "\u001b[0;31m---------------------------------------------------------------------------\u001b[0m",
      "\u001b[0;31mTypeError\u001b[0m                                 Traceback (most recent call last)",
      "\u001b[1;32m/Users/khelifanail/Documents/GitHub/Pycar/Tests/test1.ipynb Cell 7\u001b[0m line \u001b[0;36m2\n\u001b[1;32m      <a href='vscode-notebook-cell:/Users/khelifanail/Documents/GitHub/Pycar/Tests/test1.ipynb#W1sZmlsZQ%3D%3D?line=0'>1</a>\u001b[0m \u001b[39m# On initialise un objet de la classe CarNetwork \u001b[39;00m\n\u001b[0;32m----> <a href='vscode-notebook-cell:/Users/khelifanail/Documents/GitHub/Pycar/Tests/test1.ipynb#W1sZmlsZQ%3D%3D?line=1'>2</a>\u001b[0m reseau \u001b[39m=\u001b[39m CarNetwork(\u001b[39m'\u001b[39;49m\u001b[39m1, rue Joliot Curie, 91190 Gif-sur-Yvette\u001b[39;49m\u001b[39m'\u001b[39;49m, \u001b[39m'\u001b[39;49m\u001b[39m3, rue Dareau, 75014 Paris\u001b[39;49m\u001b[39m'\u001b[39;49m, \u001b[39m12\u001b[39;49m, url)\n",
      "\u001b[0;31mTypeError\u001b[0m: CarNetwork.__init__() takes 4 positional arguments but 5 were given"
     ]
    }
   ],
   "source": [
    "# On initialise un objet de la classe CarNetwork \n",
    "reseau = CarNetwork('1, rue Joliot Curie, 91190 Gif-sur-Yvette', '3, rue Dareau, 75014 Paris', 12, url)"
   ]
  },
  {
   "cell_type": "code",
   "execution_count": 24,
   "metadata": {},
   "outputs": [
    {
     "data": {
      "text/html": [
       "<div>\n",
       "<style scoped>\n",
       "    .dataframe tbody tr th:only-of-type {\n",
       "        vertical-align: middle;\n",
       "    }\n",
       "\n",
       "    .dataframe tbody tr th {\n",
       "        vertical-align: top;\n",
       "    }\n",
       "\n",
       "    .dataframe thead th {\n",
       "        text-align: right;\n",
       "    }\n",
       "</style>\n",
       "<table border=\"1\" class=\"dataframe\">\n",
       "  <thead>\n",
       "    <tr style=\"text-align: right;\">\n",
       "      <th></th>\n",
       "      <th>insee_code,city_code,zip_code,label,latitude,longitude,department_name,department_number,region_name,region_geojson_name</th>\n",
       "    </tr>\n",
       "  </thead>\n",
       "  <tbody>\n",
       "    <tr>\n",
       "      <th>0</th>\n",
       "      <td>25620,ville du pont,25650,ville du pont,46.999...</td>\n",
       "    </tr>\n",
       "    <tr>\n",
       "      <th>1</th>\n",
       "      <td>25624,villers grelot,25640,villers grelot,47.3...</td>\n",
       "    </tr>\n",
       "    <tr>\n",
       "      <th>2</th>\n",
       "      <td>25615,villars les blamont,25310,villars les bl...</td>\n",
       "    </tr>\n",
       "    <tr>\n",
       "      <th>3</th>\n",
       "      <td>25619,les villedieu,25240,les villedieu,46.713...</td>\n",
       "    </tr>\n",
       "    <tr>\n",
       "      <th>4</th>\n",
       "      <td>25622,villers buzon,25170,villers buzon,47.228...</td>\n",
       "    </tr>\n",
       "    <tr>\n",
       "      <th>...</th>\n",
       "      <td>...</td>\n",
       "    </tr>\n",
       "    <tr>\n",
       "      <th>39140</th>\n",
       "      <td>98829,thio,98829,thio,,,nouvelle-calédonie,988...</td>\n",
       "    </tr>\n",
       "    <tr>\n",
       "      <th>39141</th>\n",
       "      <td>98831,voh,98833,voh,,,nouvelle-calédonie,988,n...</td>\n",
       "    </tr>\n",
       "    <tr>\n",
       "      <th>39142</th>\n",
       "      <td>98832,yate,98834,yate,,,nouvelle-calédonie,988...</td>\n",
       "    </tr>\n",
       "    <tr>\n",
       "      <th>39143</th>\n",
       "      <td>98612,sigave,98620,sigave,-14.270411199,-178.1...</td>\n",
       "    </tr>\n",
       "    <tr>\n",
       "      <th>39144</th>\n",
       "      <td>98613,uvea,98600,uvea,-13.281862538,-176.16192...</td>\n",
       "    </tr>\n",
       "  </tbody>\n",
       "</table>\n",
       "<p>39145 rows × 1 columns</p>\n",
       "</div>"
      ],
      "text/plain": [
       "      insee_code,city_code,zip_code,label,latitude,longitude,department_name,department_number,region_name,region_geojson_name\n",
       "0      25620,ville du pont,25650,ville du pont,46.999...                                                                      \n",
       "1      25624,villers grelot,25640,villers grelot,47.3...                                                                      \n",
       "2      25615,villars les blamont,25310,villars les bl...                                                                      \n",
       "3      25619,les villedieu,25240,les villedieu,46.713...                                                                      \n",
       "4      25622,villers buzon,25170,villers buzon,47.228...                                                                      \n",
       "...                                                  ...                                                                      \n",
       "39140  98829,thio,98829,thio,,,nouvelle-calédonie,988...                                                                      \n",
       "39141  98831,voh,98833,voh,,,nouvelle-calédonie,988,n...                                                                      \n",
       "39142  98832,yate,98834,yate,,,nouvelle-calédonie,988...                                                                      \n",
       "39143  98612,sigave,98620,sigave,-14.270411199,-178.1...                                                                      \n",
       "39144  98613,uvea,98600,uvea,-13.281862538,-176.16192...                                                                      \n",
       "\n",
       "[39145 rows x 1 columns]"
      ]
     },
     "execution_count": 24,
     "metadata": {},
     "output_type": "execute_result"
    }
   ],
   "source": [
    "pd.DataFrame(reseau.stations_data)"
   ]
  },
  {
   "cell_type": "code",
   "execution_count": null,
   "metadata": {},
   "outputs": [],
   "source": []
  }
 ],
 "metadata": {
  "kernelspec": {
   "display_name": "Python 3",
   "language": "python",
   "name": "python3"
  },
  "language_info": {
   "codemirror_mode": {
    "name": "ipython",
    "version": 3
   },
   "file_extension": ".py",
   "mimetype": "text/x-python",
   "name": "python",
   "nbconvert_exporter": "python",
   "pygments_lexer": "ipython3",
   "version": "3.11.5"
  },
  "orig_nbformat": 4
 },
 "nbformat": 4,
 "nbformat_minor": 2
}
