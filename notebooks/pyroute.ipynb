{
 "cells": [
  {
   "cell_type": "markdown",
   "metadata": {},
   "source": [
    "## Fichier d'application du module Pyroutelib3 \n",
    "\n",
    "Dans ce notebook, nous vérifions le bon fonctionnement de la classe CarNetwork (fichier CarNetwork.py) que nous avons construite en majeure partie à l'aide de la classe Pyroutelib3"
   ]
  },
  {
   "cell_type": "code",
   "execution_count": 1,
   "metadata": {},
   "outputs": [
    {
     "name": "stdout",
     "output_type": "stream",
     "text": [
      "Requirement already satisfied: pyroutelib3 in /usr/local/lib/python3.11/site-packages (1.7.2)\n",
      "Requirement already satisfied: osmiter>=1.1 in /usr/local/lib/python3.11/site-packages (from pyroutelib3) (1.3.1)\n",
      "Requirement already satisfied: typing-extensions in /usr/local/lib/python3.11/site-packages (from pyroutelib3) (4.8.0)\n",
      "Requirement already satisfied: filelock in /usr/local/lib/python3.11/site-packages (from pyroutelib3) (3.12.4)\n",
      "Requirement already satisfied: iso8601 in /usr/local/lib/python3.11/site-packages (from osmiter>=1.1->pyroutelib3) (2.1.0)\n",
      "Requirement already satisfied: protobuf in /usr/local/lib/python3.11/site-packages (from osmiter>=1.1->pyroutelib3) (4.24.4)\n",
      "\n",
      "\u001b[1m[\u001b[0m\u001b[34;49mnotice\u001b[0m\u001b[1;39;49m]\u001b[0m\u001b[39;49m A new release of pip is available: \u001b[0m\u001b[31;49m23.2.1\u001b[0m\u001b[39;49m -> \u001b[0m\u001b[32;49m23.3\u001b[0m\n",
      "\u001b[1m[\u001b[0m\u001b[34;49mnotice\u001b[0m\u001b[1;39;49m]\u001b[0m\u001b[39;49m To update, run: \u001b[0m\u001b[32;49mpython3.11 -m pip install --upgrade pip\u001b[0m\n",
      "Note: you may need to restart the kernel to use updated packages.\n"
     ]
    }
   ],
   "source": [
    "pip install pyroutelib3"
   ]
  },
  {
   "cell_type": "code",
   "execution_count": 9,
   "metadata": {},
   "outputs": [],
   "source": [
    "import pyroutelib3 \n",
    "import os\n",
    "import sys \n",
    "\n",
    "car_network_directory = '/Users/khelifanail/Documents/GitHub/Pycar/Modules'\n",
    "\n",
    "## si Augustin utilise le chemin absolu est '/Users/augustincablant/Documents/GitHub/Pycar/Modules' \n",
    "\n",
    "sys.path.append(car_network_directory)\n",
    "\n",
    "from CarNetwork import CarNetwork"
   ]
  },
  {
   "cell_type": "code",
   "execution_count": 10,
   "metadata": {},
   "outputs": [],
   "source": [
    "## On instancie dans un premier temps un objet de la classe CarNetwork \n",
    "## Attention au format des entrées\n",
    "\n",
    "reseau = CarNetwork('1, rue Joliot Curie, 91190 Gif-sur-Yvette', '3, rue Dareau, 75014 Paris', 12)\n",
    "\n",
    "## On applique la méthode .get_coordo() qui ne prend aucun argument en paramètre et qui fixe la valeur des attribus \n",
    "## reseau.x_A et reseau.x_B aux valeurs entrées lors de l'instanciation de l'objet CarNetwork \n",
    "\n",
    "reseau.get_coordo()"
   ]
  },
  {
   "cell_type": "code",
   "execution_count": 13,
   "metadata": {},
   "outputs": [
    {
     "ename": "TypeError",
     "evalue": "CarNetwork.trajet_voiture() missing 2 required positional arguments: 'coor_arrivee' and 'idf'",
     "output_type": "error",
     "traceback": [
      "\u001b[0;31m---------------------------------------------------------------------------\u001b[0m",
      "\u001b[0;31mTypeError\u001b[0m                                 Traceback (most recent call last)",
      "\u001b[1;32m/Users/khelifanail/Documents/GitHub/Pycar/notebooks/pyroute.ipynb Cell 5\u001b[0m line \u001b[0;36m1\n\u001b[0;32m----> <a href='vscode-notebook-cell:/Users/khelifanail/Documents/GitHub/Pycar/notebooks/pyroute.ipynb#W2sZmlsZQ%3D%3D?line=0'>1</a>\u001b[0m reseau\u001b[39m.\u001b[39;49mtrajet_voiture()\n",
      "\u001b[0;31mTypeError\u001b[0m: CarNetwork.trajet_voiture() missing 2 required positional arguments: 'coor_arrivee' and 'idf'"
     ]
    }
   ],
   "source": [
    "reseau.trajet_voiture()"
   ]
  },
  {
   "cell_type": "code",
   "execution_count": 12,
   "metadata": {},
   "outputs": [
    {
     "data": {
      "text/plain": [
       "<CarNetwork.CarNetwork at 0x15fcab3d0>"
      ]
     },
     "execution_count": 12,
     "metadata": {},
     "output_type": "execute_result"
    }
   ],
   "source": [
    "reseau"
   ]
  },
  {
   "cell_type": "code",
   "execution_count": 6,
   "metadata": {},
   "outputs": [
    {
     "ename": "NameError",
     "evalue": "name 'coord_dep' is not defined",
     "output_type": "error",
     "traceback": [
      "\u001b[0;31m---------------------------------------------------------------------------\u001b[0m",
      "\u001b[0;31mNameError\u001b[0m                                 Traceback (most recent call last)",
      "\u001b[1;32m/Users/khelifanail/Documents/GitHub/Pycar/notebooks/pyroute.ipynb Cell 3\u001b[0m line \u001b[0;36m1\n\u001b[0;32m----> <a href='vscode-notebook-cell:/Users/khelifanail/Documents/GitHub/Pycar/notebooks/pyroute.ipynb#W2sZmlsZQ%3D%3D?line=0'>1</a>\u001b[0m coor_depart \u001b[39m=\u001b[39m [coord_dep[\u001b[39m1\u001b[39m], coord_dep[\u001b[39m0\u001b[39m]] \n\u001b[1;32m      <a href='vscode-notebook-cell:/Users/khelifanail/Documents/GitHub/Pycar/notebooks/pyroute.ipynb#W2sZmlsZQ%3D%3D?line=1'>2</a>\u001b[0m coor_arrivee \u001b[39m=\u001b[39m [coord_arr[\u001b[39m1\u001b[39m], coord_arr[\u001b[39m0\u001b[39m]] \n",
      "\u001b[0;31mNameError\u001b[0m: name 'coord_dep' is not defined"
     ]
    }
   ],
   "source": [
    "coor_depart = [coord_dep[1], coord_dep[0]] \n",
    "coor_arrivee = [coord_arr[1], coord_arr[0]] "
   ]
  },
  {
   "cell_type": "code",
   "execution_count": null,
   "metadata": {},
   "outputs": [],
   "source": []
  }
 ],
 "metadata": {
  "kernelspec": {
   "display_name": "Python 3",
   "language": "python",
   "name": "python3"
  },
  "language_info": {
   "codemirror_mode": {
    "name": "ipython",
    "version": 3
   },
   "file_extension": ".py",
   "mimetype": "text/x-python",
   "name": "python",
   "nbconvert_exporter": "python",
   "pygments_lexer": "ipython3",
   "version": "3.11.5"
  },
  "orig_nbformat": 4
 },
 "nbformat": 4,
 "nbformat_minor": 2
}
